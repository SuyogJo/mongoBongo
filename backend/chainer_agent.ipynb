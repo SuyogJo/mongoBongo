{
 "cells": [
  {
   "cell_type": "markdown",
   "metadata": {},
   "source": [
    "# Content Generation Pipeline\n",
    "### Briefly: \n",
    "### Step 1: Main Content Generation Pipeline\n",
    "* Use Online Research Agent \n",
    "* Generates initial Painpoints, Descriptions, Sources, Links, Ideas, Features\n",
    "* GPT-3.5-turbo \n",
    "\n",
    "### Step 2: Writing Improvement Piepline\n",
    "* Use Offline Prompting (no agent)\n",
    "* Improves technical writng of content\n",
    "* Putting content in desired style, length and rought formatting\n",
    "* Keeps original link \n",
    "* GPT-4-turbo"
   ]
  },
  {
   "cell_type": "markdown",
   "metadata": {},
   "source": [
    "Follow https://www.youtube.com/watch?v=ogQUlS7CkYA&t=789s"
   ]
  },
  {
   "cell_type": "markdown",
   "metadata": {},
   "source": [
    "# Step 1: Prepareation & Initilization "
   ]
  },
  {
   "cell_type": "markdown",
   "metadata": {},
   "source": [
    "### Imports\n"
   ]
  },
  {
   "cell_type": "code",
   "execution_count": 34,
   "metadata": {},
   "outputs": [
    {
     "data": {
      "text/plain": [
       "True"
      ]
     },
     "execution_count": 34,
     "metadata": {},
     "output_type": "execute_result"
    }
   ],
   "source": [
    "# imports\n",
    " \n",
    "from langchain_community.chat_models import ChatPerplexity\n",
    "from langchain_community.chat_models import ChatPerplexity\n",
    "from langchain.chat_models import ChatOpenAI\n",
    "from langchain.schema import SystemMessage, AIMessage\n",
    "\n",
    "from langchain.chains import LLMChain\n",
    "from langchain.prompts import PromptTemplate, SystemMessagePromptTemplate ,PromptTemplate\n",
    "from langchain.memory import ConversationBufferMemory\n",
    "from langchain.text_splitter import RecursiveCharacterTextSplitter\n",
    "from langchain_core.pydantic_v1 import BaseModel, Field\n",
    "from langchain.chains.summarize import load_summarize_chain\n",
    "from langchain.tools import BaseTool\n",
    "from typing import Type\n",
    "from langchain_core.prompts import ChatPromptTemplate\n",
    "import os\n",
    "from dotenv import load_dotenv\n",
    "from langchain.agents import initialize_agent, Tool\n",
    "from langchain.agents import AgentType\n",
    "from langchain.prompts import MessagesPlaceholder\n",
    "\n",
    "from scrapingant_client import ScrapingAntClient\n",
    "import json\n",
    "from bs4 import BeautifulSoup\n",
    "import requests\n",
    "\n",
    "\n",
    "from datetime import datetime\n",
    "load_dotenv()\n",
    "\n"
   ]
  },
  {
   "cell_type": "markdown",
   "metadata": {},
   "source": [
    "### API KEYS"
   ]
  },
  {
   "cell_type": "code",
   "execution_count": 35,
   "metadata": {},
   "outputs": [],
   "source": [
    "serper_key = os.environ.get(\"SERPER_API_KEY\")\n",
    "scraping_ant_key = os.environ.get (\"SCRAPING_ANT_KEY\")"
   ]
  },
  {
   "cell_type": "markdown",
   "metadata": {},
   "source": [
    "### Models"
   ]
  },
  {
   "cell_type": "code",
   "execution_count": 36,
   "metadata": {},
   "outputs": [],
   "source": [
    "openai_key =  os.environ.get(\"OPENAI_API_KEY\")\n",
    "pplx_key =  os.environ.get(\"PERPLEXITY_API_KEY\")\n",
    "\n",
    "\n",
    "gpt3 = ChatOpenAI(temperature=0, openai_api_key=openai_key,model= \"gpt-3.5-turbo-0125\") # one way to load a model \n",
    "gpt4 = ChatOpenAI(temperature=0, openai_api_key=openai_key,model= \"gpt-4-0125-preview\") # one way to load a model \n",
    "pplx = ChatPerplexity(temperature=0.1, pplx_api_key=pplx_key, model=\"sonar-medium-online\") # or sonar-small-onlinesd \n",
    "pplx_sm = ChatPerplexity(temperature=0.5, pplx_api_key=pplx_key, model=\"sonar-small-online\") # or sonar-small-onlinesd \n",
    "mixtr  = ChatPerplexity (temperature=0 ,pplx_api_key=pplx_key, model='mistral-7b-instruct')"
   ]
  },
  {
   "cell_type": "markdown",
   "metadata": {},
   "source": [
    "# Step 2: Main Content Generation Pipeline"
   ]
  },
  {
   "cell_type": "markdown",
   "metadata": {},
   "source": [
    "### Prompts - System Message"
   ]
  },
  {
   "cell_type": "markdown",
   "metadata": {},
   "source": [
    "In the current pipeline, p_system_message is used "
   ]
  },
  {
   "cell_type": "code",
   "execution_count": 37,
   "metadata": {},
   "outputs": [],
   "source": [
    "# p_system_message =  \"\"\" \n",
    "# You are a world-class researcher and techincal writer who can do detail research and write content on\n",
    "#  any topic and produce facts based results using the search and scrape_website .\n",
    "#    you do not make things up nor hallucinate you will try as hard as possible to gather facts and data to back up the research\n",
    " \n",
    "# Please make sure you complete the objective above with the following rules :\n",
    "\n",
    "\n",
    "# 0. ouput the links of the sites your searched for\n",
    "# 1. You should do enough research to gather as much information as possible about the objective\n",
    "# 2. If there are URL of the relevant links and articles, you will scrape it together more information\n",
    "# 3. After researching, you should think “ is there any new things I should search and scrape based on the data. \n",
    "# I  collected to increase research quality?”if the answer is yes. Continue; but don't do this for more than 3 iterations don’t do this more than 3 iterations\n",
    "# 4. IMPORTANT: you should not make things up nor hallucinate, you should only write facts and data that you have gathered\n",
    "# 5. After researching, you should think “is the information too generic and broad? If yes, do more research and be more specific with your output, don't do this for more than 3 iterations \n",
    "# 6  After researching, you should think  \"is the information similar/same from before? If yes, discard the output and search for different, unique outputs\n",
    "# 7. you should include all reference data and links to back up your research ONLY IF APPLICABLE (i.e. they cam from your search)\n",
    "\n",
    "# \"\"\"\n",
    "\n",
    "p_system_message = \"\"\"\n",
    "  you are a world class researcher on products on the internet \n",
    "\n",
    "  who can do detail research and write content on\n",
    " any topic and produce facts based results using the search and scrape_website .\n",
    "\n",
    " Please make sure you complete the objective above with the following rules :\n",
    "\n",
    " 1. You should do enough research to gather as much information as possible about the objective\n",
    "# 2. If there are URL of the relevant links and articles, you will scrape it together more information\n",
    "# 3. After researching, you should think “ is there any new things I should search and scrape based on the data. \n",
    "# I  collected to increase research quality?”if the answer is yes. Continue; but don't do this for more than 3 iterations don’t do this more than 3 iterations\n",
    "# 4. IMPORTANT: you should not make things up nor hallucinate, you should only write facts and data that you have gathered\n",
    "# 5. After researching, you should think “is the information too generic and broad? If yes, do more research and be more specific with your output, don't do this for more than 3 iterations \n",
    "# 6  After researching, you should think  \"is the information similar/same from before? If yes, discard the output and search for different, unique outputs\n",
    "# 7. you should include all reference data and links to back up your research ONLY IF APPLICABLE (i.e. they cam from your search)\n",
    "\"\"\"\n",
    "\n",
    "\n",
    "# not used\n",
    "p_system_message_saas_specific =  \"\"\" \n",
    "You are a world-class researcher who can do detail research on\n",
    " any topic in the SaaS, MicroSaaS and software domain. \n",
    " you produce facts based results using the search and scrape_website .\n",
    " you do not make things up nor hallucinate you will try as hard as possible to gather facts and data to back up the research\n",
    " \n",
    "you should search well known forums such as: \n",
    "Reddit, Quora, Twitter, LinkedIn,  Facebook, Product Hunt, Capterra, G2, industry-specific forums, Slack communities, Hacker News, GitHub Issues, Stack Overflow, Stack Exchange sites, YouTube comments, Amazon product reviews, niche blog comments. \n",
    "\n",
    "Please make sure you complete the objective above with the following rules :\n",
    "1. You should do enough research to gather as much information as possible about the objective\n",
    "2. If there are URL of the relevant links and articles, you will scrape it together more information\n",
    "3. Do not come up with your own URL, if you can't find a source,discard that stream of research\n",
    "4. After researching, you should think “ is there any new things I should search and scrape based on the data. \n",
    "I  collected to increase research quality?”if the answer is yes. Continue; but don't do this for more than 2 iterations don’t do this more than 2 iterations\n",
    "6. IMPORTANT: you should not make things up nor hallucinate, you should only write facts and data that you have gathered\n",
    "7. In the final output, you should include all reference data and links to back up your research\n",
    "8. In the final output, you should include our reference and links to back up your research\n",
    "\n",
    "\"\"\"\n",
    "\n",
    "t_query_list = \"\"\" \n",
    "{query}\n",
    "OUTPUT FORMAT FOR EACH ITEM IDENTIFIED, FOLLOW THE OUTPUT LENGTH STRICTLY (FOLLOW STRICTLY AND OUTPUT NOTHING ELSE):\n",
    "\n",
    "Product Name:\n",
    "Price:\n",
    "\n",
    "IMPORTANT OUTPUT LINK BRO, YOU CANNOT MISS THIS STEP :-> link: <this will be the link for the specific product>\n",
    "\n",
    "\n",
    "\n",
    "The final output should be 5 (items of) Product name:, Price, Link \n",
    "\"\"\"\n",
    "\n"
   ]
  },
  {
   "cell_type": "markdown",
   "metadata": {},
   "source": [
    "### Building Aegnt"
   ]
  },
  {
   "cell_type": "markdown",
   "metadata": {},
   "source": [
    "#### 1. Search Tool -> Using Serper API"
   ]
  },
  {
   "cell_type": "code",
   "execution_count": 38,
   "metadata": {},
   "outputs": [],
   "source": [
    "# Serper\n",
    "def search (query):\n",
    "    url = \"https://google.serper.dev/search\"\n",
    "\n",
    "    payload = json.dumps({\n",
    "    \"q\":query\n",
    "    })\n",
    "    headers = {\n",
    "    'X-API-KEY': serper_key,\n",
    "    'Content-Type': 'application/json'\n",
    "    }\n",
    "\n",
    "    response = requests.request(\"POST\", url, headers=headers, data=payload)\n",
    "\n",
    "    print(response.text)\n",
    "    return response.text"
   ]
  },
  {
   "cell_type": "markdown",
   "metadata": {},
   "source": [
    "### 2. Scraping Tool + Summary Tool\n"
   ]
  },
  {
   "cell_type": "markdown",
   "metadata": {},
   "source": [
    "https://github.com/ScrapingAnt/scrapingant-client-python?tab=readme-ov-file#sending-custom-headers"
   ]
  },
  {
   "cell_type": "markdown",
   "metadata": {},
   "source": [
    "main scrape_website function"
   ]
  },
  {
   "cell_type": "code",
   "execution_count": 39,
   "metadata": {},
   "outputs": [],
   "source": [
    "def scrape_website (objective: str, url: str): \n",
    "    print (\"**** Scraping Website **** \")\n",
    "\n",
    "    client =  ScrapingAntClient(token=scraping_ant_key)\n",
    "\n",
    "    headers = {\n",
    "        'Cache-Control': 'no-cache',\n",
    "        'Content-Type': 'application/json'\n",
    "    }\n",
    "\n",
    "    res = client.general_request(\n",
    "            url=url,\n",
    "            headers=headers\n",
    "    )\n",
    "\n",
    "    if res.status_code == 200: \n",
    "        soup = BeautifulSoup (res.content,\"html.parser\")\n",
    "        text = soup.get_text()\n",
    "\n",
    "        # print (\"text output:\" ,text)\n",
    "        print (\"*** Finished website Scrape  ***\")\n",
    "        \n",
    "        if len(text) >10000:\n",
    "            (\"*** Long text, entering summary function ***\")\n",
    "            out = summary (objective,text)\n",
    "            (\"*** Summary Finished***\")\n",
    "            return out\n",
    "        else: \n",
    "\n",
    "            (\"*** Finishd Scraping Function ***\")\n",
    "            return text\n",
    "    else:\n",
    "        print (f\"HTTP request failed with status code {res.status_code}\")"
   ]
  },
  {
   "cell_type": "markdown",
   "metadata": {},
   "source": [
    "Summary Function -> map reduce summary"
   ]
  },
  {
   "cell_type": "code",
   "execution_count": 40,
   "metadata": {},
   "outputs": [],
   "source": [
    "def summary (objective,content):\n",
    "    text_splitter = RecursiveCharacterTextSplitter(\n",
    "        separators=['\\n\\n',\"\\n\"], chunk_size=10000,chunk_overlap=500)\n",
    "    docs  = text_splitter.create_documents([content])\n",
    "    print (\"** received text inputing into ma_prompt\")\n",
    "    map_prompt = \"\"\" \n",
    "    Write a summary of the following text for {objective}:\n",
    "    \"{text}\"\n",
    "\n",
    "    *** SUMMARY ***: \n",
    "    \n",
    "    \"\"\"\n",
    "    \n",
    "    map_prompt_template = PromptTemplate ( \n",
    "        template=map_prompt, input_variables=[\"text\",\"objective\"]\n",
    "    )\n",
    "    # print (\"** objective **: \", objective)\n",
    "    # print (\"** map prompt template: ** \",map_prompt_template)\n",
    "\n",
    "    # print  (\"*** building chain ***\")\n",
    "    summary_chain = load_summarize_chain(\n",
    "        llm=gpt3,\n",
    "        chain_type='map_reduce',\n",
    "        map_prompt=map_prompt_template,\n",
    "        combine_prompt=map_prompt_template,\n",
    "        verbose =True\n",
    "    )\n",
    "    (\" *** Invokings summary chain **** \")\n",
    "    out = summary_chain.invoke ({\"input_documents\":docs,\"objective\": objective})\n",
    "    (\" *** Finished summary chain **** \")\n",
    "\n",
    "    return out\n"
   ]
  },
  {
   "cell_type": "markdown",
   "metadata": {},
   "source": [
    "Predefined formatting classes XX NOT USED -> good for documentation"
   ]
  },
  {
   "cell_type": "code",
   "execution_count": 41,
   "metadata": {},
   "outputs": [],
   "source": [
    "# define input\n",
    "class ScrapeWebsiteInput (BaseModel):\n",
    "    objective: str = Field (\n",
    "        description=\"the objective $ task that users gives to the agent\")\n",
    "    url: str = Field (description=\" the url of the website to be scraped \")\n",
    "\n",
    "# define function\n",
    "class ScrapeWebsiteTool (BaseTool): \n",
    "    name = \"scrape_website\"\n",
    "    description =\"\"\"useful when you need to get data from a website url, \n",
    "    passing both url and objective to the function;\n",
    "    DO NOT Make up any URL!the url should only be from the search results\"\"\" \n",
    "    args_schema: Type[BaseModel] = ScrapeWebsiteInput\n",
    "\n",
    "    def _run (self,objective: str ,url:str):\n",
    "        return scrape_website(objective,url)\n",
    "\n",
    "    def _arun(self,url:str):\n",
    "        raise NotImplementedError(f\"Error in implementing the function : {url}\")"
   ]
  },
  {
   "cell_type": "markdown",
   "metadata": {},
   "source": [
    "### 3. Create Agent Painpoint -> Can Wrap in Function\n",
    "Note: for the agent_llm gpt 3 seems to invoke the best results so far -> because it actually invokes a search where as pplx online model doesn't.\n",
    "Still need to test out different models. esp.gpt4\n",
    "Although gpt3 is lacking in the task in generating painpoint titles"
   ]
  },
  {
   "cell_type": "code",
   "execution_count": 42,
   "metadata": {},
   "outputs": [],
   "source": [
    "# tool list for the agents to use \n",
    "\n",
    "def create_main_content_agent ( memory_llm=gpt3 ):\n",
    "\n",
    "    tools = [\n",
    "        Tool (\n",
    "            name = \"Search\",\n",
    "            func= search,\n",
    "            description = \"\"\" \n",
    "            useful when you need to answer questions about current\n",
    "            events,data. You should ask targetted questions\n",
    "            \"\"\"\n",
    "        ),\n",
    "        ScrapeWebsiteTool(),\n",
    "    ]\n",
    "    system_message = SystemMessage (content=p_system_message)\n",
    "\n",
    "    agent_kwargs = {\n",
    "        \"extract_prompt_messages\" : [MessagesPlaceholder(variable_name=\"memory\")],\n",
    "        \"system_message\" : system_message\n",
    "    }\n",
    "\n",
    "    memory = ConversationBufferMemory (\n",
    "        memory_key=\"memory\",\n",
    "        return_messages=True,\n",
    "        llm=memory_llm,\n",
    "        max_tokens=1000\n",
    "    )\n",
    "\n",
    "    # initialize agent\n",
    "    agent = initialize_agent (\n",
    "        tools,\n",
    "        llm=gpt4,\n",
    "        agent=AgentType.OPENAI_FUNCTIONS,\n",
    "        verbose=True,\n",
    "        agent_kwargs=agent_kwargs,\n",
    "        memory=memory,\n",
    "    )\n",
    "    return agent\n"
   ]
  },
  {
   "cell_type": "markdown",
   "metadata": {},
   "source": [
    "### Implmentation \n",
    "Looping through Shorter but diverse prompt selection "
   ]
  },
  {
   "cell_type": "code",
   "execution_count": 43,
   "metadata": {},
   "outputs": [],
   "source": [
    "### This one is currently used -> can modify ###\n",
    "query_list = [\n",
    "\"\"\" \n",
    "top 5 toners that moisturize my skin from sephora\n",
    "\n",
    "\"\"\"\n",
    "]\n",
    "\n",
    "\n",
    "\n",
    "# not used currently\n",
    "\n",
    "# query_list_0327024 = [\n",
    "#        \"\"\" What are the top 5 Trending tech painpoints of 2024 that can potentially be solved by creatig a new saas product?\n",
    "\n",
    "# OUTPUT FORMAT FOR EACH ITEM, FOLLOW THE OUTPUT LENGTH STRICTLY (FOLLOW STRICTLY AND OUTPUT NOTHING ELSE):\n",
    "\n",
    "# painpoint:   (an attention grabbing ovrview of the painpoint , OUTPUT LENGTH 6 to 8 word sentence)\n",
    "# description: (OUTPUT LENGTH: 4 to 5 sentence (For each problem/complaints/painpoints, craft a  description that captures the core problem and and why its SUCH an annoying/relevant issue. \n",
    "# your writing style is, expresive, uplifting. witty,professional, and technical )\n",
    "# link: (if applicable. If not, output \"NA\")\n",
    "# source: the platform where you got the information from\n",
    "# Idea: an innovative, unique, market relavant,trending, high conversion SaaS idea that directly solves the painpoint above  (OUTPUT LENGTH: 5-8 words)\n",
    "# Features: a list  of 3-5 (vary this) key features of that idea, make sure to be specific (OUTPUT LENGTH 6-8 words)\n",
    "\n",
    "# The final output should be 5 (items of) painpoints,descriptions, reference links\n",
    "#     \"\"\" ,  \n",
    " \n",
    "#     \"\"\"What are 5 challenges individuals in a profession face that can be alleviated with a new platform, currently?\n",
    "#      OUTPUT FORMAT FOR EACH ITEM, FOLLOW THE OUTPUT LENGTH STRICTLY (FOLLOW STRICTLY AND OUTPUT NOTHING ELSE):\n",
    "# OUTPUT FORMAT FOR EACH ITEM, FOLLOW THE OUTPUT LENGTH STRICTLY (FOLLOW STRICTLY AND OUTPUT NOTHING ELSE):\n",
    "\n",
    "# painpoint: an concise ovrview of the painpoint , OUTPUT LENGTH 10 to 15 word sentence,\n",
    "# description: xxx OUTPUT LENGTH: 4 to 5 sentence (For each problem/complaints/painpoints, craft a  description that captures the core problem and and why its SUCH an annoying/relevant issue. \n",
    "# your writing style is Craft witty, engaging pain point descriptions using vivid language, analogies, and humor to highlight)\n",
    "# reference link: (if applicable. If not, output \"NA\")\n",
    "#        \"\"\",\n",
    " \n",
    "#     \"What are 5 issues teams may encounter that could be addressed with a new tool, by 2025?\",\n",
    "#     \"What are 5 obstacles enthusiasts have navigated that might have been simpler with a new service, in the last five years?\",\n",
    "#     \"What are 5 problems hobbyists will encounter that can be addressed with a new software, in the near future?\",\n",
    "#     \"What are 5 challenges collectors have dealt with that can be resolved with a new system, looking back over the past several years?\",\n",
    "#     \"What are 5 issues users currently encounter that can be resolved with a new app, in 2024 and beyond?\",\n",
    "#     \"What are 5 challenges learners will likely face that can be mitigated with a new app, by 2025?\",\n",
    "#     \"What are 5 obstacles hobbyists have navigated that could have been simpler with a new service, in the last five years?\",\n",
    "#     \"What are 5 issues creators face that can be solved with a new platform, currently?\"\n",
    "# ]\n",
    "\n"
   ]
  },
  {
   "cell_type": "code",
   "execution_count": null,
   "metadata": {},
   "outputs": [],
   "source": []
  },
  {
   "cell_type": "markdown",
   "metadata": {},
   "source": [
    "Put it in a function -> automating getting painpoints"
   ]
  },
  {
   "cell_type": "code",
   "execution_count": 44,
   "metadata": {},
   "outputs": [],
   "source": [
    "main_content_temp_list = []\n",
    "improved_content_temp_list= []"
   ]
  },
  {
   "cell_type": "code",
   "execution_count": 45,
   "metadata": {},
   "outputs": [],
   "source": [
    "# Main function for getting the pointpoints\n",
    "def generate_main_content(query_list:list,main_content_temp_list:list,iterations:int,memory_llm=gpt3):\n",
    "    \n",
    "    # setting a cap for safety purposes\n",
    "    if iterations > 20:\n",
    "        print (\"This is too many iterations. returning without running code\")\n",
    "        return\n",
    "    \n",
    "    if iterations > len (query_list): \n",
    "        print (f\"your input iterations is more than the prompts in the query list, only running code for {len(query_list)} iterations\")\n",
    "    l = query_list[:iterations]\n",
    "\n",
    "\n",
    "    # Create Agent\n",
    "    agent = create_main_content_agent(memory_llm=memory_llm)\n",
    "\n",
    "\n",
    "    for i, q in enumerate(l) :\n",
    "\n",
    "        ## need to document this formatting \n",
    "        empty_query = SystemMessagePromptTemplate.from_template(t_query_list)\n",
    "        filled_query =empty_query.format(query = q)\n",
    "\n",
    "        out = agent.invoke({\"input\": str (filled_query)}) # actual call \n",
    "        \n",
    "        print (f'*** {i + 1} iteration finished ***')\n",
    "\n",
    "        main_content_temp_list.append(out[\"output\"]) \n",
    "    \n",
    "    n = iterations * 5\n",
    "    print (f\"*** Sucessfully generated {n} Content ***\")\n",
    "\n",
    "    # Get today's date in the format YYYY-MM-DD\n",
    "    today_date = datetime.now().strftime(\"%Y-%m-%d\")\n",
    "\n",
    "    # Construct the filename with today's date\n",
    "        # Create directory if it doesn't exist\n",
    "    dir_name = 'raw_main_content'\n",
    "    if not os.path.exists(dir_name):\n",
    "        os.makedirs(dir_name)\n",
    "\n",
    "    # Define the path for the output file\n",
    "    file_path = os.path.join(dir_name, f'main_content_{today_date}.txt')\n",
    "\n",
    "    # Writing the pain points to the text file\n",
    "    with open(file_path, 'w') as file:\n",
    "        for content in main_content_temp_list:\n",
    "            file.write(content + '\\n')  # Write each pain point on a new line\n",
    "\n",
    "    print(f\"*** Content saved to '{file_path}' ***\")\n",
    "    return main_content_temp_list\n",
    "\n",
    "    "
   ]
  },
  {
   "cell_type": "code",
   "execution_count": 46,
   "metadata": {},
   "outputs": [
    {
     "name": "stdout",
     "output_type": "stream",
     "text": [
      "\n",
      "\n",
      "\u001b[1m> Entering new AgentExecutor chain...\u001b[0m\n"
     ]
    },
    {
     "name": "stdout",
     "output_type": "stream",
     "text": [
      "\u001b[32;1m\u001b[1;3m\n",
      "Invoking: `Search` with `top 5 toners that moisturize skin from Sephora`\n",
      "\n",
      "\n",
      "\u001b[0m{\"searchParameters\":{\"q\":\"top 5 toners that moisturize skin from Sephora\",\"type\":\"search\",\"engine\":\"google\"},\"organic\":[{\"title\":\"Best Toners in 2024 - Sephora\",\"link\":\"https://www.sephora.com/beauty/best-toners\",\"snippet\":\"The Ordinary Glycolic Acid 7% Exfoliating Toner. The Ordinary ; OLEHENRIKSEN Glow2OH 7% AHA Exfoliating Dark Spot Toner Clean at Sephora. OLEHENRIKSEN\",\"position\":1},{\"title\":\"Best Toners - Sephora\",\"link\":\"https://www.sephora.com/shop/facial-toner-skin-toner?ref=filters[Rating]=%224%22-%22inf%22\",\"snippet\":\"Jart+Ceramidin™ Skin Barrier Serum Toner. 436. $39.00 · LANEIGE - Mini Cream Skin Refillable Toner & Moisturizer with Ceramides and Peptides.\",\"priceRange\":\"$6 to $55\",\"position\":2},{\"title\":\"Facial Toner & Skin Toner - Sephora\",\"link\":\"https://www.sephora.com/shop/facial-toner-skin-toner\",\"snippet\":\"Shop face toner and skin toner at Sephora. Refresh, nourish and tone your skin with clarifying lotions, toners and mists from top skin care brands.\",\"priceRange\":\"$9 to $120\",\"position\":3},{\"title\":\"Hydrating Toner - Sephora\",\"link\":\"https://www.sephora.com/buy/hydrating-toner\",\"snippet\":\"The purpose of a toner is to rejuvenate your skin gently without depriving it of its natural moisture. This implies that the toner won't irritate delicate skin ...\",\"position\":4},{\"title\":\"Toners for Dry Skin | Sephora\",\"link\":\"https://www.sephora.com/shop/facial-toner-skin-toner?ref=filters[Skin%20Type]=Dry\",\"snippet\":\"Jart+Ceramidin™ Skin Barrier Serum Toner. 436. $39.00. LANEIGE - Mini Cream Skin Refillable Toner & Moisturizer with Ceramides and Peptides.\",\"priceRange\":\"$9 to $99\",\"position\":5},{\"title\":\"Toners For Dry Skin | Sephora\",\"link\":\"https://www.sephora.com/buy/toners-for-dry-skin\",\"snippet\":\"Toner for Dry Skin: Shop our selection of toners for dry skin to help restore balance and hydration. Choose from light, refreshing toners or heavier ...\",\"attributes\":{\"Missing\":\"5 | Show results with:5\"},\"position\":6},{\"title\":\"The 15 Best Toners of 2024, Tested and Reviewed - Skin - Byrdie\",\"link\":\"https://www.byrdie.com/best-toners-4584550\",\"snippet\":\"Fresh Rose Deep Hydration Toner at Sephora ($27). Jump to Review. Best Moisturizing Formula: LANEIGE Cream Skin Toner & Moisturizer at Amazon ($ ...\",\"date\":\"Apr 5, 2024\",\"priceRange\":\"$16 to $80\",\"position\":7},{\"title\":\"Best Face Moisturizers - Sephora\",\"link\":\"https://www.sephora.com/beauty/best-face-moisturizers\",\"snippet\":\"Dry Skin · Clean at Sephora. TatchaThe Dewy Skin Cream Plumping & Hydrating Moisturizer · Charlotte TilburyMagic Cream Moisturizer with Hyaluronic Acid. $100.00.\",\"attributes\":{\"Missing\":\"toners | Show results with:toners\"},\"priceRange\":\"$38 to $129\",\"position\":8},{\"title\":\"Best hydrating toners : r/Sephora - Reddit\",\"link\":\"https://www.reddit.com/r/Sephora/comments/1ace31p/best_hydrating_toners/\",\"snippet\":\"My toners: Etude Moistfull, Anua Heartleaf, Hyaluron Skin Essence, Acwell 5.5, Haruharu Wonder, COSRX Propolis Synergy Toner & Hydrium Watery ...\",\"date\":\"Jan 27, 2024\",\"position\":9},{\"title\":\"Toner For Combination Skin - Sephora\",\"link\":\"https://www.sephora.com/buy/toner-for-combination-skin\",\"snippet\":\"Toner is a must-have for combination skin. Shop our selection of toners for a perfect balance of hydration and cleansing.\",\"position\":10}],\"peopleAlsoAsk\":[{\"question\":\"What toner is best for dry skin?\",\"snippet\":\"Toners with alcohol, alpha hydroxy acids, or fragrances may be too irritating for dry skin. Instead, look for toners with hyaluronic acid, glycerin, aloe, or other hydrating ingredients.\",\"title\":\"How to choose the best toner for dry skin (plus a few of our favorites!)\",\"link\":\"https://curology.com/blog/how-to-choose-the-best-toner-for-dry-skin-plus-a-few-of-our-favorites/\"},{\"question\":\"Does toner moisturize your skin?\",\"snippet\":\"Thanks to its high-water content, toners can help hydrate your skin. Additional ingredients like hyaluronic acid also increase your skin's hydration. Makes pores look smaller. “You can make the pores look a little bit smaller,” says Dr.\",\"title\":\"Face Toners: The Skin Care Product Gets a Reboot\",\"link\":\"https://health.clevelandclinic.org/what-does-toner-do\"},{\"question\":\"What is the best toner according to dermatologist?\",\"snippet\":\"OUR TOP PICKS:\\nBest Overall: EltaMD Skin Recovery Essence Toner, $37.\\nBest Hydrating Toner: CeraVe Alcohol Free Hydrating Face Toner for Normal to Dry Skin, $10.\\nBest Toner for Oily Skin: Clé de Peau Beauté Essential Refining Essence, $105.\",\"title\":\"15 Best Toners for Every Skin Type, Endorsed by Dermatologists\",\"link\":\"https://www.glamour.com/gallery/best-toners\"},{\"question\":\"Which one thing toner is best for dry skin?\",\"snippet\":\"CENTELLA ASIATICA EXTRACT 95%: Using only pure locally grown Centella, this toner takes gentle care of tired skin, calming down rednesses and irritations to help your skin stay plump and hydrated throughout the day.\",\"title\":\"[ONE THING] Centella Asiatica Extract Toner - Amazon.in\",\"link\":\"https://www.amazon.in/ONE-THING-Centella-Asiatica-Extract/dp/B08BY1M64Z\"}],\"relatedSearches\":[{\"query\":\"Best Sephora Toner for dry skin\"},{\"query\":\"Best toner for glowing skin\"},{\"query\":\"Sephora toner for oily skin\"},{\"query\":\"Best toner for dry skin\"},{\"query\":\"Best toners\"},{\"query\":\"Sephora toner Review\"},{\"query\":\"Hydrating Toner\"},{\"query\":\"Best toner for face\"}]}\n",
      "\u001b[36;1m\u001b[1;3m{\"searchParameters\":{\"q\":\"top 5 toners that moisturize skin from Sephora\",\"type\":\"search\",\"engine\":\"google\"},\"organic\":[{\"title\":\"Best Toners in 2024 - Sephora\",\"link\":\"https://www.sephora.com/beauty/best-toners\",\"snippet\":\"The Ordinary Glycolic Acid 7% Exfoliating Toner. The Ordinary ; OLEHENRIKSEN Glow2OH 7% AHA Exfoliating Dark Spot Toner Clean at Sephora. OLEHENRIKSEN\",\"position\":1},{\"title\":\"Best Toners - Sephora\",\"link\":\"https://www.sephora.com/shop/facial-toner-skin-toner?ref=filters[Rating]=%224%22-%22inf%22\",\"snippet\":\"Jart+Ceramidin™ Skin Barrier Serum Toner. 436. $39.00 · LANEIGE - Mini Cream Skin Refillable Toner & Moisturizer with Ceramides and Peptides.\",\"priceRange\":\"$6 to $55\",\"position\":2},{\"title\":\"Facial Toner & Skin Toner - Sephora\",\"link\":\"https://www.sephora.com/shop/facial-toner-skin-toner\",\"snippet\":\"Shop face toner and skin toner at Sephora. Refresh, nourish and tone your skin with clarifying lotions, toners and mists from top skin care brands.\",\"priceRange\":\"$9 to $120\",\"position\":3},{\"title\":\"Hydrating Toner - Sephora\",\"link\":\"https://www.sephora.com/buy/hydrating-toner\",\"snippet\":\"The purpose of a toner is to rejuvenate your skin gently without depriving it of its natural moisture. This implies that the toner won't irritate delicate skin ...\",\"position\":4},{\"title\":\"Toners for Dry Skin | Sephora\",\"link\":\"https://www.sephora.com/shop/facial-toner-skin-toner?ref=filters[Skin%20Type]=Dry\",\"snippet\":\"Jart+Ceramidin™ Skin Barrier Serum Toner. 436. $39.00. LANEIGE - Mini Cream Skin Refillable Toner & Moisturizer with Ceramides and Peptides.\",\"priceRange\":\"$9 to $99\",\"position\":5},{\"title\":\"Toners For Dry Skin | Sephora\",\"link\":\"https://www.sephora.com/buy/toners-for-dry-skin\",\"snippet\":\"Toner for Dry Skin: Shop our selection of toners for dry skin to help restore balance and hydration. Choose from light, refreshing toners or heavier ...\",\"attributes\":{\"Missing\":\"5 | Show results with:5\"},\"position\":6},{\"title\":\"The 15 Best Toners of 2024, Tested and Reviewed - Skin - Byrdie\",\"link\":\"https://www.byrdie.com/best-toners-4584550\",\"snippet\":\"Fresh Rose Deep Hydration Toner at Sephora ($27). Jump to Review. Best Moisturizing Formula: LANEIGE Cream Skin Toner & Moisturizer at Amazon ($ ...\",\"date\":\"Apr 5, 2024\",\"priceRange\":\"$16 to $80\",\"position\":7},{\"title\":\"Best Face Moisturizers - Sephora\",\"link\":\"https://www.sephora.com/beauty/best-face-moisturizers\",\"snippet\":\"Dry Skin · Clean at Sephora. TatchaThe Dewy Skin Cream Plumping & Hydrating Moisturizer · Charlotte TilburyMagic Cream Moisturizer with Hyaluronic Acid. $100.00.\",\"attributes\":{\"Missing\":\"toners | Show results with:toners\"},\"priceRange\":\"$38 to $129\",\"position\":8},{\"title\":\"Best hydrating toners : r/Sephora - Reddit\",\"link\":\"https://www.reddit.com/r/Sephora/comments/1ace31p/best_hydrating_toners/\",\"snippet\":\"My toners: Etude Moistfull, Anua Heartleaf, Hyaluron Skin Essence, Acwell 5.5, Haruharu Wonder, COSRX Propolis Synergy Toner & Hydrium Watery ...\",\"date\":\"Jan 27, 2024\",\"position\":9},{\"title\":\"Toner For Combination Skin - Sephora\",\"link\":\"https://www.sephora.com/buy/toner-for-combination-skin\",\"snippet\":\"Toner is a must-have for combination skin. Shop our selection of toners for a perfect balance of hydration and cleansing.\",\"position\":10}],\"peopleAlsoAsk\":[{\"question\":\"What toner is best for dry skin?\",\"snippet\":\"Toners with alcohol, alpha hydroxy acids, or fragrances may be too irritating for dry skin. Instead, look for toners with hyaluronic acid, glycerin, aloe, or other hydrating ingredients.\",\"title\":\"How to choose the best toner for dry skin (plus a few of our favorites!)\",\"link\":\"https://curology.com/blog/how-to-choose-the-best-toner-for-dry-skin-plus-a-few-of-our-favorites/\"},{\"question\":\"Does toner moisturize your skin?\",\"snippet\":\"Thanks to its high-water content, toners can help hydrate your skin. Additional ingredients like hyaluronic acid also increase your skin's hydration. Makes pores look smaller. “You can make the pores look a little bit smaller,” says Dr.\",\"title\":\"Face Toners: The Skin Care Product Gets a Reboot\",\"link\":\"https://health.clevelandclinic.org/what-does-toner-do\"},{\"question\":\"What is the best toner according to dermatologist?\",\"snippet\":\"OUR TOP PICKS:\\nBest Overall: EltaMD Skin Recovery Essence Toner, $37.\\nBest Hydrating Toner: CeraVe Alcohol Free Hydrating Face Toner for Normal to Dry Skin, $10.\\nBest Toner for Oily Skin: Clé de Peau Beauté Essential Refining Essence, $105.\",\"title\":\"15 Best Toners for Every Skin Type, Endorsed by Dermatologists\",\"link\":\"https://www.glamour.com/gallery/best-toners\"},{\"question\":\"Which one thing toner is best for dry skin?\",\"snippet\":\"CENTELLA ASIATICA EXTRACT 95%: Using only pure locally grown Centella, this toner takes gentle care of tired skin, calming down rednesses and irritations to help your skin stay plump and hydrated throughout the day.\",\"title\":\"[ONE THING] Centella Asiatica Extract Toner - Amazon.in\",\"link\":\"https://www.amazon.in/ONE-THING-Centella-Asiatica-Extract/dp/B08BY1M64Z\"}],\"relatedSearches\":[{\"query\":\"Best Sephora Toner for dry skin\"},{\"query\":\"Best toner for glowing skin\"},{\"query\":\"Sephora toner for oily skin\"},{\"query\":\"Best toner for dry skin\"},{\"query\":\"Best toners\"},{\"query\":\"Sephora toner Review\"},{\"query\":\"Hydrating Toner\"},{\"query\":\"Best toner for face\"}]}\u001b[0m\u001b[32;1m\u001b[1;3m\n",
      "Invoking: `scrape_website` with `{'objective': 'scrape the top 5 toners that moisturize skin with their product name, price, and link', 'url': 'https://www.sephora.com/beauty/best-toners'}`\n",
      "\n",
      "\n",
      "\u001b[0m**** Scraping Website **** \n",
      "*** Finished website Scrape  ***\n",
      "** received text inputing into ma_prompt\n",
      "\n",
      "\n",
      "\u001b[1m> Entering new MapReduceDocumentsChain chain...\u001b[0m\n",
      "\n",
      "\n",
      "\u001b[1m> Entering new LLMChain chain...\u001b[0m\n",
      "Prompt after formatting:\n",
      "\u001b[32;1m\u001b[1;3m \n",
      "    Write a summary of the following text for scrape the top 5 toners that moisturize skin with their product name, price, and link:\n",
      "    \"Best Toners in 2024 | Sephora\"\n",
      "\n",
      "    *** SUMMARY ***: \n",
      "    \n",
      "    \u001b[0m\n",
      "Prompt after formatting:\n",
      "\u001b[32;1m\u001b[1;3m \n",
      "    Write a summary of the following text for scrape the top 5 toners that moisturize skin with their product name, price, and link:\n",
      "    \"Get FREE shipping on all orders when you join Beauty Insider. Exclusions/terms apply.† Learn More ▸SearchStores & ServicesSephora Jersey GardensSephora Jersey Gardens651 Kapkowski RoadSpace 1230 Elizabeth, NJOpen until 09:00 PMChange StoreView details|Get directionsFind a SephoraMakeup ServicesOne-on-one makeup application or beauty lessonSkincare ServicesHydrating and exfoliating Perk treatments by Hydrafacial™Waxing ServicesExpert grooming for brows, upper lip, or chinEventsLearn about brands, try new products, and more at our in-store eventsMy Reservations|Beauty Service FAQsCommunityCommunity ProfileSign in to see your profileSign InCreate AccountCommunity HomeAsk questions, join challenges, and get recommendations from people like youGroupsDiscover topics tailored to your beauty interestsGalleryAdd your photos and videos and get inspired by fellow beauty loversFeatured GroupsTrending at SephoraHaul StarsSkincare AwareFeatured PostsMakeup Madness: Vote in our Beauty Bracket!Show off your Sephora Savings Event haulMonthly Faves: Share your Top Products!Sign Infor FREE Shipping 🚚Cheers to the weekend, Beautiful. 💋Sign in for FREE standard shipping on all orders.\n",
      "Sign InCreate AccountBeauty PreferencesComplete to see your personalized recommendationsBeauty Insider SummaryView activity, savings, benefitsRewards BazaarRedeem items, samples, more0 PointsBeauty Insider ChallengesNEWEarn points when you complete tasksBuy It AgainReorder from in-store and online purchasesOrdersView & track online or pickup ordersAuto-ReplenishView and manage your subscriptionsLovesView saved productsAccount SettingsPayment, contact info, addresses, passwordSephora Credit Card ProgramApply nowSame-Day UnlimitedGet Unlimited Free Same-Day DeliveryReservationsManage your services, classes, eventsBeauty Advisor RecommendationsRecommendations from your store visitsRecently LovedUse your Loves list to keep track of your favorite products.Sign InCreate AccountbasketSign in to see items you may have added previously.Sign InCreate AccountSee samples, rewards, and promos in basket.Beauty Insiders enjoy FREE standard shipping on all orders.\n",
      "The Sephora Credit Card ProgramSave 25% on this order when you open and use either Sephora Credit Card today*\n",
      "SEE DETAILS*Subject to credit approval. Exclusions apply.\n",
      "NewAll NewJust DroppedNew MakeupNew SkincareNew Hair CareNew FragranceNew Bath & BodyNew Tools & BrushesThe Next Big ThingBestsellersTrending on SocialRefillable Beauty ProductsQuizzes & Buying GuidesClean BeautyPlanet Aware BeautyFSA & HSA EligibleBrandsBrands A-ZSEPHORA COLLECTIONNew BrandsBrown Girl JaneAAVRANIDr. IdrissPrada BeautyIris&RomeoOnly At SephoraRare Beauty by Selena GomezHAUS LABS By Lady GagaMane5 SENSAffordable BrandsSEPHORA COLLECTIONThe OrdinaryThe Inkey ListVerbBlack-Owned BrandsPATTERN By Tracee Ellis RossBREAD BEAUTY SUPPLYadwoa beautyFORVR MoodMelanin HaircareFashion FairFENTY FragranceClean at SephoraILIAEllis BrooklyndaeLiving ProofMakeupAll MakeupFaceFoundationBB & CC CreamTinted MoisturizerConcealerFace PrimerSetting Spray & PowderHighlighterContourColor CorrectFace SetsEyeEye PalettesMascaraEyelinerEyebrowFalse EyelashesEyeshadowEyelash SerumsEyebrow SerumsEye PrimerEye SetsLipLip GlossLipstickLip OilLip PlumperLip Balms & TreatmentsLiquid LipstickLip LinerLip StainLip SetsCheekBlushBronzerHighlighterContourCheek PalettesValue & Gift SetsMakeup PalettesBrushes & ApplicatorsAccessoriesNailNewBestsellersClean MakeupVegan MakeupMini SizeValue SizeRefillable MakeupSephora CollectionLuxury MakeupBlack-Owned Brands MakeupHelp Me ChooseMonochrome MakeupEasy Eye MakeupFoundation QuizLip QuizBrow QuizComplexion Routine BuilderGuide To FoundationsClean Makeup GuideNo Makeup MakeupSuper-Natural SculptingSkincareAll SkincareMoisturizersNight CreamsFace OilsMists & EssencesBB & CC CreamCleansersFace Wash & CleansersExfoliatorsMakeup RemoversFace WipesTonersTreatmentsFace SerumsBlemish & Acne TreatmentsFacial PeelsMasksFace MasksSheet MasksEye MasksEye CareEye Creams & TreatmentsEye MasksLip Balms & TreatmentsSunscreenFace SunscreenBody SunscreenHigh Tech ToolsWellnessSupplementsFeminine CareShop By ConcernAcne & BlemishesAnti-AgingDark SpotsPoresDrynessFine Lines & WrinklesDullnessNewBestsellersClean SkincareVegan SkincareValue & Gift SetsMini SizeValue SizeRefillable SkincareFSA & HSA EligibleSephora CollectionLuxury SkincareBlack-Owned Brands SkincareHelp Me ChooseBetter Skin FastMinimalist Skincare RoutinesSkincare QuizSkin Routine QuizFSA/HSA GuidePlanet Aware BeautyThe Wellness EditBest Skincare Under $35Clean Skincare GuideSkincare by AgeSkincare for Your Skin TypeHairAll HairShampoo & ConditionerShampooConditionerScalp ScrubTreatmentsHair MasksLeave-in ConditionerHair OilHair SerumsScalp TreatmentsHair SupplementsHair Thinning & Hair LossStylingStyling Creams & SpraysDry ShampooHair Primers & Heat ProtectantsHair SprayMousse & FoamGel, Pomade & WaxCurly, Coily, Textured Hair CareHair Dye & Root Touch-UpsHair TonersValue & Gift SetsHair & Body MistToolsHair DryersHair Straighteners & Flat IronsBlow Dry BrushesCurling IronsBrushes & CombsAccessoriesShop by ConcernDamaged HairDrynessFrizzScalp CareVolumeColor CareShop by StyleVolume & TextureSmooth & SleekCurl EnhancingNewBestsellersClean Hair CareVegan Hair CareMini SizeValue SizeRefillable Hair CareSephora CollectionLuxury HairBlack-Owned Brands Hair CareHelp Me ChooseHealthy Hair Care GuideEasy Styling Must-HavesThe Dry Hair ResetBest ShampoosHair QuizClean Hair Care GuideShiny, Healthy Hair GuideCurly, Coily, Textured Hair Care GuideHealthy Scalp Care GuideFragranceAll FragranceWomenPerfumePerfume OilsRollerballs & Travel SizeBody Mist & Hair MistMenCologneUnisex / GenderlessValue & Gift SetsPerfume Gift SetsCologne Gift SetsHome Gift SetsSephora FavoritesCandles & Home ScentsCandlesDiffusersShop by Fragrance FamilyFloralFreshWarm & SpicyEarthy & WoodyNewBestsellersClean FragranceVegan FragranceMini SizeValue SizeRefillable FragranceLuxury FragranceBlack-Owned Brands FragranceHelp Me ChooseThe New & Now Fragrance EditClean Fragrance GuideFragrance QuizFragrance GuideFragrance Notes GuideBest Affordable FragranceNiche FragrancesNext Big ThingTools & BrushesAll Tools & BrushesSephora CollectionBrushes & ApplicatorsBrush SetsFace BrushesEye BrushesLip BrushesSponges & ApplicatorsBrush CleanersFacial Cleansing BrushesHair ToolsHair DryersStraighteners & Flat IronsCurling IronsBrushes & CombsAccessoriesWellnessWellness Tools & DevicesVibratorsBeauty ToolsAnti-AgingTeeth WhiteningHair RemovalTweezers & EyebrowsManicure & PedicureEyelash CurlersSharpenersMakeup & Travel CasesValue & Gift SetsNewBestsellersBlack-Owned Brands Tools & BrushesBath & BodyAll Bath & BodyBath & ShowerBody Wash & Shower GelScrubs & ExfoliantsBath Soaks & Bubble BathHand Sanitizer & Hand SoapBody MoisturizersBody Lotions & Body OilsHand Cream & Foot CreamDeodorant & AntiperspirantBody Mist & Hair MistSunscreenFace SunscreenBody SunscreenSelf TannersWellnessSupplementsIntimate Care & VibratorsFeminine CareCandles & Home ScentsShop By ConcernStretch Marks & FirmingDryness / Dry SkinSmooth TextureEven Skin Tone & Color CorrectionNewBestsellersMini SizeValue SizeValue & Gift SetsSephora CollectionBlack-Owned Brands Bath & BodyMini SizeAll Mini SizeMakeupSkincareHairFragranceBath & BodyValue & Gift Sets$15 and Under$25 and UnderSephora FavoritesGifts & Gift CardsAll GiftsGift FinderGift CardValue & Gift SetsBy Price$10 and under$15 and under$25 and under$50 and under$75 and under$100 and underBy CategoryMakeupSkincareHairFragranceCandles & Home ScentsToolsBrush Sets & AccessoriesBath & BodyBy RecipientFor HerFor MomFor HimFor TeenagersFor ThemTop Rated GiftsMini SizeOnly at SephoraLuxury GiftsThe Luxury GuideBeauty Under $20Makeup Under $20Skincare Under $20Hair Care Under $20Fragrance Under $20Tools & Brushes Under $20Bath & Body Under $20Sephora Collection Under $20MakeupSkincareHair CareCandles & Home ScentsTools & BrushesBath & BodyValue & Gift SetsClean BeautySale & OffersAll SaleMakeupSkincareHair CareFragranceTools & BrushesBath & BodyMini SizeBeauty OffersAdded to Get It Shipped basketBeauty Insiders enjoy FREE standard shipping on all orders.\n",
      "View BasketCheckout Shipped ItemsThe Sephora Credit Card ProgramSave 25% on this order when you open and use either Sephora Credit Card today*\n",
      "*Subject to credit approval. Exclusions apply.\"\n",
      "\n",
      "    *** SUMMARY ***: \n",
      "    \n",
      "    \u001b[0m\n",
      "Prompt after formatting:\n",
      "\u001b[32;1m\u001b[1;3m \n",
      "    Write a summary of the following text for scrape the top 5 toners that moisturize skin with their product name, price, and link:\n",
      "    \"View BasketCheckout Shipped ItemsThe Sephora Credit Card ProgramSave 25% on this order when you open and use either Sephora Credit Card today*\n",
      "*Subject to credit approval. Exclusions apply.\n",
      "SEE DETAILSHomeShopOffersSign in (or sign up!) for offers, points, and more.MeCommunityStoresBest TonersBest TonersCheck out the best:Eye CreamsFace WashesVitamin C SerumsBestselling TonersReplenish moisture post-cleanse with our favorite toning products.QuicklookThe OrdinaryGlycolic Acid 7% Exfoliating Toner$13.003.6KQuicklookOnly at SephoraGlow RecipeWatermelon Glow PHA + BHA Pore-Tight Toner$35.006.3KQuicklookOLEHENRIKSENGlow2OH 7% AHA Exfoliating Dark Spot Toner$35.003KQuicklookfreshRose & Hyaluronic Acid Deep Hydration Toner$48.001.4KQuicklookOnly at SephoraOLEHENRIKSENBalancing Force™ Oil Control Toner$35.001.7KQuicklookSK-IIAnti-Aging Facial Treatment Essence\t\t\t\t\t\t$325.00 ($435.00 value)3.2KQuicklookOnly at SephoraTatchaLuminous Dewy Skin Mist$49.002.1KBestselling Toners for Dry SkinAlcohol-free toners help hydrate skin and curb the dryness that can follow cleansing.QuicklookOnly at SephoraFarmacyDeep Sweep 2% BHA Pore Cleaning Toner with Moringa + Papaya$34.00957QuicklookFirst Aid BeautyHydrating Toner with Squalane + Oats $24.00559QuicklookKiehl's Since 1851Calendula Herbal Extract Alcohol Free Toner$48.00207QuicklookThe OrdinaryGlycolic Acid 7% Exfoliating Toner$13.003.6KQuicklookOnly at SephoraGlow RecipeWatermelon Glow PHA + BHA Pore-Tight Toner$35.006.3KQuicklookOLEHENRIKSENGlow2OH 7% AHA Exfoliating Dark Spot Toner$35.003KBestselling Toners for AcneCheck out toners formulated for oily skin to help prevent over-production of oils.QuicklookKiehl's Since 1851Calendula Herbal Extract Alcohol Free Toner$48.00207QuicklookOnly at SephoraOLEHENRIKSENBalancing Force™ Oil Control Toner$35.001.7KQuicklookCLINIQUEClarifying Lotion 2$22.001.4KQuicklookThe OrdinaryGlycolic Acid 7% Exfoliating Toner$13.003.6KQuicklookOnly at SephoraThe INKEY ListGlycolic Acid Exfoliating Toner$14.00307QuicklookThe INKEY ListPolyhydroxy Acid (PHA) Gentle Exfoliating Toner$14.00484QuicklookMario BadescuGlycolic Acid Toner$18.0075QuicklookDermalogicaMulti-Active Toner $44.00333Related PagesBest Acne Treatments of 2024Best Sunscreens in 2024Best Face Highlighters in 2024Best Face Washes in 2024Best Primers in 2024Best Facial Rollers in 2023Best Sunscreens for Face in 2024Best Face Washes for Acne in 2024Best Pimple Patches in 2024Website feedback? Let us know ▸Find a StoreSephora Jersey GardensCustomer ServiceAvailableGet the AppDownload NowGet Sephora Text AlertsSign up NowSephora Credit Card ProgramWant 25% off your Sephora purchase1? DETAILSAbout SephoraAbout SephoraAbout SephoraNewsroomCareersSephora ValuesSupply Chain TransparencyAffiliatesSephora EventsGift CardsSephora Global SitesDiversity, Equity & InclusionSephora AccelerateBeauty (Re)PurposedReport a VulnerabilityMy SephoraMy SephoraBeauty InsiderSephora Credit CardCommunity ProfileOrder StatusPurchase HistoryAccount SettingsBeauty Advisor RecommendationsBeauty OffersQuizzes & Buying GuidesRewards BazaarLovesBook a ReservationHelpHelpCustomer ServiceReturns & ExchangesDelivery and Pickup OptionsShippingBillingInternational ShipmentsBeauty Services FAQSephora at Kohl'sStore LocationsOnline OrderingKlarna & AfterpayAccessibilityRegion & LanguageUnited States - EnglishCanada - EnglishCanada - FrançaisWe Belong toSomething BeautifulSign up for Sephora EmailsSign UpDownload the Sephora App© 2024 Sephora USA, Inc. All rights reserved.Privacy PolicyTerms of UseAccessibilitySitemapYour Privacy Choices1-877-737-4672    TTY: 1-888-866-9845\"\n",
      "\n",
      "    *** SUMMARY ***: \n",
      "    \n",
      "    \u001b[0m\n",
      "\n",
      "\u001b[1m> Finished chain.\u001b[0m\n",
      "\n",
      "\n",
      "\u001b[1m> Entering new LLMChain chain...\u001b[0m\n",
      "Prompt after formatting:\n",
      "\u001b[32;1m\u001b[1;3m \n",
      "    Write a summary of the following text for scrape the top 5 toners that moisturize skin with their product name, price, and link:\n",
      "    \"The article discusses the top 5 toners that moisturize skin in 2024, available at Sephora. It provides information on the product name, price, and a link to purchase each toner.\n",
      "\n",
      "The text provides information about Sephora's Beauty Insider program, services offered at their stores, and their credit card program. It also mentions the option for FREE shipping on all orders for Beauty Insiders. Additionally, the text lists various categories of products available at Sephora, such as makeup, skincare, hair care, fragrance, tools, and brushes, bath and body products, and gifts. The Sephora Credit Card Program offers a 25% discount on orders when the card is opened and used.\n",
      "\n",
      "The text provides a list of the top toners that moisturize skin, categorized by different skin types such as dry skin and acne-prone skin. The top toners include products from brands like The Ordinary, Glow Recipe, OLEHENRIKSEN, and more. Each toner is listed with its price and popularity rating. The text also includes related pages for best acne treatments, sunscreens, face washes, and more. Customers can purchase these toners from Sephora's website.\"\n",
      "\n",
      "    *** SUMMARY ***: \n",
      "    \n",
      "    \u001b[0m\n",
      "\n",
      "\u001b[1m> Finished chain.\u001b[0m\n",
      "\n",
      "\u001b[1m> Finished chain.\u001b[0m\n",
      "\u001b[33;1m\u001b[1;3m{'input_documents': [Document(page_content='Best Toners in 2024 | Sephora'), Document(page_content='Get FREE shipping on all orders when you join Beauty Insider. Exclusions/terms apply.† Learn More ▸SearchStores & ServicesSephora Jersey GardensSephora Jersey Gardens651 Kapkowski RoadSpace 1230 Elizabeth, NJOpen until 09:00 PMChange StoreView details|Get directionsFind a SephoraMakeup ServicesOne-on-one makeup application or beauty lessonSkincare ServicesHydrating and exfoliating Perk treatments by Hydrafacial™Waxing ServicesExpert grooming for brows, upper lip, or chinEventsLearn about brands, try new products, and more at our in-store eventsMy Reservations|Beauty Service FAQsCommunityCommunity ProfileSign in to see your profileSign InCreate AccountCommunity HomeAsk questions, join challenges, and get recommendations from people like youGroupsDiscover topics tailored to your beauty interestsGalleryAdd your photos and videos and get inspired by fellow beauty loversFeatured GroupsTrending at SephoraHaul StarsSkincare AwareFeatured PostsMakeup Madness: Vote in our Beauty Bracket!Show off your Sephora Savings Event haulMonthly Faves: Share your Top Products!Sign Infor FREE Shipping 🚚Cheers to the weekend, Beautiful. 💋Sign in for FREE standard shipping on all orders.\\nSign InCreate AccountBeauty PreferencesComplete to see your personalized recommendationsBeauty Insider SummaryView activity, savings, benefitsRewards BazaarRedeem items, samples, more0 PointsBeauty Insider ChallengesNEWEarn points when you complete tasksBuy It AgainReorder from in-store and online purchasesOrdersView & track online or pickup ordersAuto-ReplenishView and manage your subscriptionsLovesView saved productsAccount SettingsPayment, contact info, addresses, passwordSephora Credit Card ProgramApply nowSame-Day UnlimitedGet Unlimited Free Same-Day DeliveryReservationsManage your services, classes, eventsBeauty Advisor RecommendationsRecommendations from your store visitsRecently LovedUse your Loves list to keep track of your favorite products.Sign InCreate AccountbasketSign in to see items you may have added previously.Sign InCreate AccountSee samples, rewards, and promos in basket.Beauty Insiders enjoy FREE standard shipping on all orders.\\nThe Sephora Credit Card ProgramSave 25% on this order when you open and use either Sephora Credit Card today*\\nSEE DETAILS*Subject to credit approval. Exclusions apply.\\nNewAll NewJust DroppedNew MakeupNew SkincareNew Hair CareNew FragranceNew Bath & BodyNew Tools & BrushesThe Next Big ThingBestsellersTrending on SocialRefillable Beauty ProductsQuizzes & Buying GuidesClean BeautyPlanet Aware BeautyFSA & HSA EligibleBrandsBrands A-ZSEPHORA COLLECTIONNew BrandsBrown Girl JaneAAVRANIDr. IdrissPrada BeautyIris&RomeoOnly At SephoraRare Beauty by Selena GomezHAUS LABS By Lady GagaMane5 SENSAffordable BrandsSEPHORA COLLECTIONThe OrdinaryThe Inkey ListVerbBlack-Owned BrandsPATTERN By Tracee Ellis RossBREAD BEAUTY SUPPLYadwoa beautyFORVR MoodMelanin HaircareFashion FairFENTY FragranceClean at SephoraILIAEllis BrooklyndaeLiving ProofMakeupAll MakeupFaceFoundationBB & CC CreamTinted MoisturizerConcealerFace PrimerSetting Spray & PowderHighlighterContourColor CorrectFace SetsEyeEye PalettesMascaraEyelinerEyebrowFalse EyelashesEyeshadowEyelash SerumsEyebrow SerumsEye PrimerEye SetsLipLip GlossLipstickLip OilLip PlumperLip Balms & TreatmentsLiquid LipstickLip LinerLip StainLip SetsCheekBlushBronzerHighlighterContourCheek PalettesValue & Gift SetsMakeup PalettesBrushes & ApplicatorsAccessoriesNailNewBestsellersClean MakeupVegan MakeupMini SizeValue SizeRefillable MakeupSephora CollectionLuxury MakeupBlack-Owned Brands MakeupHelp Me ChooseMonochrome MakeupEasy Eye MakeupFoundation QuizLip QuizBrow QuizComplexion Routine BuilderGuide To FoundationsClean Makeup GuideNo Makeup MakeupSuper-Natural SculptingSkincareAll SkincareMoisturizersNight CreamsFace OilsMists & EssencesBB & CC CreamCleansersFace Wash & CleansersExfoliatorsMakeup RemoversFace WipesTonersTreatmentsFace SerumsBlemish & Acne TreatmentsFacial PeelsMasksFace MasksSheet MasksEye MasksEye CareEye Creams & TreatmentsEye MasksLip Balms & TreatmentsSunscreenFace SunscreenBody SunscreenHigh Tech ToolsWellnessSupplementsFeminine CareShop By ConcernAcne & BlemishesAnti-AgingDark SpotsPoresDrynessFine Lines & WrinklesDullnessNewBestsellersClean SkincareVegan SkincareValue & Gift SetsMini SizeValue SizeRefillable SkincareFSA & HSA EligibleSephora CollectionLuxury SkincareBlack-Owned Brands SkincareHelp Me ChooseBetter Skin FastMinimalist Skincare RoutinesSkincare QuizSkin Routine QuizFSA/HSA GuidePlanet Aware BeautyThe Wellness EditBest Skincare Under $35Clean Skincare GuideSkincare by AgeSkincare for Your Skin TypeHairAll HairShampoo & ConditionerShampooConditionerScalp ScrubTreatmentsHair MasksLeave-in ConditionerHair OilHair SerumsScalp TreatmentsHair SupplementsHair Thinning & Hair LossStylingStyling Creams & SpraysDry ShampooHair Primers & Heat ProtectantsHair SprayMousse & FoamGel, Pomade & WaxCurly, Coily, Textured Hair CareHair Dye & Root Touch-UpsHair TonersValue & Gift SetsHair & Body MistToolsHair DryersHair Straighteners & Flat IronsBlow Dry BrushesCurling IronsBrushes & CombsAccessoriesShop by ConcernDamaged HairDrynessFrizzScalp CareVolumeColor CareShop by StyleVolume & TextureSmooth & SleekCurl EnhancingNewBestsellersClean Hair CareVegan Hair CareMini SizeValue SizeRefillable Hair CareSephora CollectionLuxury HairBlack-Owned Brands Hair CareHelp Me ChooseHealthy Hair Care GuideEasy Styling Must-HavesThe Dry Hair ResetBest ShampoosHair QuizClean Hair Care GuideShiny, Healthy Hair GuideCurly, Coily, Textured Hair Care GuideHealthy Scalp Care GuideFragranceAll FragranceWomenPerfumePerfume OilsRollerballs & Travel SizeBody Mist & Hair MistMenCologneUnisex / GenderlessValue & Gift SetsPerfume Gift SetsCologne Gift SetsHome Gift SetsSephora FavoritesCandles & Home ScentsCandlesDiffusersShop by Fragrance FamilyFloralFreshWarm & SpicyEarthy & WoodyNewBestsellersClean FragranceVegan FragranceMini SizeValue SizeRefillable FragranceLuxury FragranceBlack-Owned Brands FragranceHelp Me ChooseThe New & Now Fragrance EditClean Fragrance GuideFragrance QuizFragrance GuideFragrance Notes GuideBest Affordable FragranceNiche FragrancesNext Big ThingTools & BrushesAll Tools & BrushesSephora CollectionBrushes & ApplicatorsBrush SetsFace BrushesEye BrushesLip BrushesSponges & ApplicatorsBrush CleanersFacial Cleansing BrushesHair ToolsHair DryersStraighteners & Flat IronsCurling IronsBrushes & CombsAccessoriesWellnessWellness Tools & DevicesVibratorsBeauty ToolsAnti-AgingTeeth WhiteningHair RemovalTweezers & EyebrowsManicure & PedicureEyelash CurlersSharpenersMakeup & Travel CasesValue & Gift SetsNewBestsellersBlack-Owned Brands Tools & BrushesBath & BodyAll Bath & BodyBath & ShowerBody Wash & Shower GelScrubs & ExfoliantsBath Soaks & Bubble BathHand Sanitizer & Hand SoapBody MoisturizersBody Lotions & Body OilsHand Cream & Foot CreamDeodorant & AntiperspirantBody Mist & Hair MistSunscreenFace SunscreenBody SunscreenSelf TannersWellnessSupplementsIntimate Care & VibratorsFeminine CareCandles & Home ScentsShop By ConcernStretch Marks & FirmingDryness / Dry SkinSmooth TextureEven Skin Tone & Color CorrectionNewBestsellersMini SizeValue SizeValue & Gift SetsSephora CollectionBlack-Owned Brands Bath & BodyMini SizeAll Mini SizeMakeupSkincareHairFragranceBath & BodyValue & Gift Sets$15 and Under$25 and UnderSephora FavoritesGifts & Gift CardsAll GiftsGift FinderGift CardValue & Gift SetsBy Price$10 and under$15 and under$25 and under$50 and under$75 and under$100 and underBy CategoryMakeupSkincareHairFragranceCandles & Home ScentsToolsBrush Sets & AccessoriesBath & BodyBy RecipientFor HerFor MomFor HimFor TeenagersFor ThemTop Rated GiftsMini SizeOnly at SephoraLuxury GiftsThe Luxury GuideBeauty Under $20Makeup Under $20Skincare Under $20Hair Care Under $20Fragrance Under $20Tools & Brushes Under $20Bath & Body Under $20Sephora Collection Under $20MakeupSkincareHair CareCandles & Home ScentsTools & BrushesBath & BodyValue & Gift SetsClean BeautySale & OffersAll SaleMakeupSkincareHair CareFragranceTools & BrushesBath & BodyMini SizeBeauty OffersAdded to Get It Shipped basketBeauty Insiders enjoy FREE standard shipping on all orders.\\nView BasketCheckout Shipped ItemsThe Sephora Credit Card ProgramSave 25% on this order when you open and use either Sephora Credit Card today*\\n*Subject to credit approval. Exclusions apply.'), Document(page_content=\"View BasketCheckout Shipped ItemsThe Sephora Credit Card ProgramSave 25% on this order when you open and use either Sephora Credit Card today*\\n*Subject to credit approval. Exclusions apply.\\nSEE DETAILSHomeShopOffersSign in (or sign up!) for offers, points, and more.MeCommunityStoresBest TonersBest TonersCheck out the best:Eye CreamsFace WashesVitamin C SerumsBestselling TonersReplenish moisture post-cleanse with our favorite toning products.QuicklookThe OrdinaryGlycolic Acid 7% Exfoliating Toner$13.003.6KQuicklookOnly at SephoraGlow RecipeWatermelon Glow PHA + BHA Pore-Tight Toner$35.006.3KQuicklookOLEHENRIKSENGlow2OH 7% AHA Exfoliating Dark Spot Toner$35.003KQuicklookfreshRose & Hyaluronic Acid Deep Hydration Toner$48.001.4KQuicklookOnly at SephoraOLEHENRIKSENBalancing Force™ Oil Control Toner$35.001.7KQuicklookSK-IIAnti-Aging Facial Treatment Essence\\t\\t\\t\\t\\t\\t$325.00 ($435.00 value)3.2KQuicklookOnly at SephoraTatchaLuminous Dewy Skin Mist$49.002.1KBestselling Toners for Dry SkinAlcohol-free toners help hydrate skin and curb the dryness that can follow cleansing.QuicklookOnly at SephoraFarmacyDeep Sweep 2% BHA Pore Cleaning Toner with Moringa + Papaya$34.00957QuicklookFirst Aid BeautyHydrating Toner with Squalane + Oats $24.00559QuicklookKiehl's Since 1851Calendula Herbal Extract Alcohol Free Toner$48.00207QuicklookThe OrdinaryGlycolic Acid 7% Exfoliating Toner$13.003.6KQuicklookOnly at SephoraGlow RecipeWatermelon Glow PHA + BHA Pore-Tight Toner$35.006.3KQuicklookOLEHENRIKSENGlow2OH 7% AHA Exfoliating Dark Spot Toner$35.003KBestselling Toners for AcneCheck out toners formulated for oily skin to help prevent over-production of oils.QuicklookKiehl's Since 1851Calendula Herbal Extract Alcohol Free Toner$48.00207QuicklookOnly at SephoraOLEHENRIKSENBalancing Force™ Oil Control Toner$35.001.7KQuicklookCLINIQUEClarifying Lotion 2$22.001.4KQuicklookThe OrdinaryGlycolic Acid 7% Exfoliating Toner$13.003.6KQuicklookOnly at SephoraThe INKEY ListGlycolic Acid Exfoliating Toner$14.00307QuicklookThe INKEY ListPolyhydroxy Acid (PHA) Gentle Exfoliating Toner$14.00484QuicklookMario BadescuGlycolic Acid Toner$18.0075QuicklookDermalogicaMulti-Active Toner $44.00333Related PagesBest Acne Treatments of 2024Best Sunscreens in 2024Best Face Highlighters in 2024Best Face Washes in 2024Best Primers in 2024Best Facial Rollers in 2023Best Sunscreens for Face in 2024Best Face Washes for Acne in 2024Best Pimple Patches in 2024Website feedback? Let us know ▸Find a StoreSephora Jersey GardensCustomer ServiceAvailableGet the AppDownload NowGet Sephora Text AlertsSign up NowSephora Credit Card ProgramWant 25% off your Sephora purchase1? DETAILSAbout SephoraAbout SephoraAbout SephoraNewsroomCareersSephora ValuesSupply Chain TransparencyAffiliatesSephora EventsGift CardsSephora Global SitesDiversity, Equity & InclusionSephora AccelerateBeauty (Re)PurposedReport a VulnerabilityMy SephoraMy SephoraBeauty InsiderSephora Credit CardCommunity ProfileOrder StatusPurchase HistoryAccount SettingsBeauty Advisor RecommendationsBeauty OffersQuizzes & Buying GuidesRewards BazaarLovesBook a ReservationHelpHelpCustomer ServiceReturns & ExchangesDelivery and Pickup OptionsShippingBillingInternational ShipmentsBeauty Services FAQSephora at Kohl'sStore LocationsOnline OrderingKlarna & AfterpayAccessibilityRegion & LanguageUnited States - EnglishCanada - EnglishCanada - FrançaisWe Belong toSomething BeautifulSign up for Sephora EmailsSign UpDownload the Sephora App© 2024 Sephora USA, Inc. All rights reserved.Privacy PolicyTerms of UseAccessibilitySitemapYour Privacy Choices1-877-737-4672    TTY: 1-888-866-9845\")], 'objective': 'scrape the top 5 toners that moisturize skin with their product name, price, and link', 'output_text': \"The text discusses the top 5 toners that moisturize skin in 2024, available at Sephora. It provides information on the product name, price, and a link to purchase each toner. The toners are categorized by different skin types such as dry skin and acne-prone skin, and include products from brands like The Ordinary, Glow Recipe, and OLEHENRIKSEN. Customers can purchase these toners from Sephora's website.\"}\u001b[0m\u001b[32;1m\u001b[1;3mHere are the top 5 toners that moisturize skin from Sephora:\n",
      "\n",
      "1. Product Name: The Ordinary Glycolic Acid 7% Exfoliating Toner\n",
      "   Price: $13.00\n",
      "   Link: [Sephora - The Ordinary Glycolic Acid 7% Exfoliating Toner](https://www.sephora.com/product/the-ordinary-deciem-glycolic-acid-7-toning-solution-P427419)\n",
      "\n",
      "2. Product Name: Glow Recipe Watermelon Glow PHA + BHA Pore-Tight Toner\n",
      "   Price: $35.00\n",
      "   Link: [Sephora - Glow Recipe Watermelon Glow PHA + BHA Pore-Tight Toner](https://www.sephora.com/product/glow-recipe-watermelon-glow-pha-bha-pore-tight-toner-P448958)\n",
      "\n",
      "3. Product Name: OLEHENRIKSEN Glow2OH 7% AHA Exfoliating Dark Spot Toner\n",
      "   Price: $35.00\n",
      "   Link: [Sephora - OLEHENRIKSEN Glow2OH 7% AHA Exfoliating Dark Spot Toner](https://www.sephora.com/product/olehenriksen-glow2oh-dark-spot-toner-P433817)\n",
      "\n",
      "4. Product Name: Fresh Rose & Hyaluronic Acid Deep Hydration Toner\n",
      "   Price: $48.00\n",
      "   Link: [Sephora - Fresh Rose & Hyaluronic Acid Deep Hydration Toner](https://www.sephora.com/product/fresh-rose-deep-hydration-facial-toner-P417169)\n",
      "\n",
      "5. Product Name: OLEHENRIKSEN Balancing Force™ Oil Control Toner\n",
      "   Price: $35.00\n",
      "   Link: [Sephora - OLEHENRIKSEN Balancing Force™ Oil Control Toner](https://www.sephora.com/product/olehenriksen-balancing-force-oil-control-toner-P42342)\n",
      "\n",
      "These toners are selected based on their popularity and effectiveness in moisturizing the skin, available for purchase at Sephora.\u001b[0m\n",
      "\n",
      "\u001b[1m> Finished chain.\u001b[0m\n",
      "*** 1 iteration finished ***\n",
      "*** Sucessfully generated 5 Content ***\n",
      "*** Content saved to 'raw_main_content/main_content_2024-04-20.txt' ***\n"
     ]
    },
    {
     "data": {
      "text/plain": [
       "['Here are the top 5 toners that moisturize skin from Sephora:\\n\\n1. Product Name: The Ordinary Glycolic Acid 7% Exfoliating Toner\\n   Price: $13.00\\n   Link: [Sephora - The Ordinary Glycolic Acid 7% Exfoliating Toner](https://www.sephora.com/product/the-ordinary-deciem-glycolic-acid-7-toning-solution-P427419)\\n\\n2. Product Name: Glow Recipe Watermelon Glow PHA + BHA Pore-Tight Toner\\n   Price: $35.00\\n   Link: [Sephora - Glow Recipe Watermelon Glow PHA + BHA Pore-Tight Toner](https://www.sephora.com/product/glow-recipe-watermelon-glow-pha-bha-pore-tight-toner-P448958)\\n\\n3. Product Name: OLEHENRIKSEN Glow2OH 7% AHA Exfoliating Dark Spot Toner\\n   Price: $35.00\\n   Link: [Sephora - OLEHENRIKSEN Glow2OH 7% AHA Exfoliating Dark Spot Toner](https://www.sephora.com/product/olehenriksen-glow2oh-dark-spot-toner-P433817)\\n\\n4. Product Name: Fresh Rose & Hyaluronic Acid Deep Hydration Toner\\n   Price: $48.00\\n   Link: [Sephora - Fresh Rose & Hyaluronic Acid Deep Hydration Toner](https://www.sephora.com/product/fresh-rose-deep-hydration-facial-toner-P417169)\\n\\n5. Product Name: OLEHENRIKSEN Balancing Force™ Oil Control Toner\\n   Price: $35.00\\n   Link: [Sephora - OLEHENRIKSEN Balancing Force™ Oil Control Toner](https://www.sephora.com/product/olehenriksen-balancing-force-oil-control-toner-P42342)\\n\\nThese toners are selected based on their popularity and effectiveness in moisturizing the skin, available for purchase at Sephora.']"
      ]
     },
     "execution_count": 46,
     "metadata": {},
     "output_type": "execute_result"
    }
   ],
   "source": [
    "generate_main_content(query_list,main_content_temp_list,1)"
   ]
  },
  {
   "cell_type": "markdown",
   "metadata": {},
   "source": []
  },
  {
   "cell_type": "markdown",
   "metadata": {},
   "source": [
    "## Step 3. Writng Improvment Pipeline (offline) -> Currently Used\n"
   ]
  },
  {
   "cell_type": "markdown",
   "metadata": {},
   "source": [
    "### Prompt - System Message\n",
    "\n",
    "\n"
   ]
  },
  {
   "cell_type": "code",
   "execution_count": 47,
   "metadata": {},
   "outputs": [],
   "source": [
    "# ## *** This is the one currently in use *** ## \n",
    "# p_system_message_improve_writing = \"\"\" \n",
    "#     You are a As a seasoned technical blog writer, you excel in demystifying complex tech concepts with clarity.\n",
    "\n",
    "#     Your default writing style is: \n",
    "#     - Your content is rich with insights, examples, and a touch of humor, making technology accessible and engaging. \n",
    "#     Stay ahead of tech trends, and blend professionalism with personality to educate, inspire, and entertain your audience\n",
    "\n",
    "#     If the user specifices your WRITING STYLE, output content in their exact WRITING STYLE\n",
    "    \n",
    "#     the user will input some data, you are able to write content exactly as they tell you to. and output in the exact format they tell you to. \n",
    "#     and output the data in the same length as they tell you to. Below is the data.\n",
    "#     {input_data}.\n",
    "#     wait for the users input and write content for them.\n",
    "# \"\"\"\n",
    "\n",
    "\n",
    "# # p_system_message_ideas =  \"\"\" \n",
    "# # You are a world-class researcher  who can do detail research on\n",
    "# # any topic by combining the context of {input_data}, as well as searching the internet,\n",
    "# # and produce facts based results using the search and scrape_website. \n",
    "# # you do not make things up nor hallucinate you will try as hard as possible to gather facts and data to back up the research\n",
    " \n",
    "# # Please make sure you complete the objective above with the following rules :\n",
    "\n",
    "# # 1. You should do enough research to gather as much information as possible about the objective\n",
    "# # 2. If there are URL of the relevant links and articles, you will scrape it together more information\n",
    "# # 3. After researching, you should think “is there any new things I should search and scrape based on the data. \n",
    "# # I  collected to increase research quality?”if the answer is yes. Continue; but don't do this for more than 3 iterations don’t do this more than 3 iterations\n",
    "# # 4. IMPORTANT: you should not make things up nor hallucinate, you should only write facts and data that you have gathered\n",
    "\n",
    "# # \"\"\"\n"
   ]
  },
  {
   "cell_type": "code",
   "execution_count": 48,
   "metadata": {},
   "outputs": [],
   "source": [
    "# def improve_writing_ol(improved_content_temp_list:list, main_content_temp_list: list, llm = gpt4): \n",
    "#     for i, pp_batch in enumerate (main_content_temp_list):  # need to add to this \n",
    "#         count  = 1 \n",
    "#         # TODO: run ai\n",
    "#         # q = \"\"\" \n",
    "#         #     Improve writing or keep the same, based on your writing style and above data. \n",
    "            \n",
    "#         #     final output: \n",
    "#         #     FOR EACH PAINPOINT, you output  the items below\n",
    "#         #     painpoint:  (improve writing, use less metaphors and be more technical should be 8 to 12 words long)\n",
    "#         #     description: (improve writing , should be 3 to 4 sentences long)\n",
    "#         #     link: (UNCHAGED FROM THE ORIGINAL, OUTPUT THE EXACT SAME LINK, UNCHAGED FROM THE ORIGINAL, OUTPUT THE EXACT SAME LINK)\n",
    "#         #     source: (improve writing: only output the platofrm or site name of which the info is found)\n",
    "#         #     Idea: (improve writing, should be  8 to 15 words long, clearly states the idea and how it would directly solve the problem)\n",
    "#         #     Features: (improve writing, FOR EACH FEATURE, should expand a little bit on this feature should be 8-15 words long)\n",
    "    \n",
    "#         #     \"\"\"\n",
    "#         q =  \"\"\"\n",
    "#             OUTPUT FORMAT:\n",
    "#             - Product Name: xxxx\n",
    "#             - Price: $xx.xx\n",
    "#             - Details: xxxxxx\n",
    "#             - Link: (UNCHAGED FROM THE ORIGINAL, OUTPUT THE EXACT SAME LINK, UNCHAGED FROM THE ORIGINAL, OUTPUT THE EXACT SAME LINK)\n",
    "#             \"\"\"\n",
    "        \n",
    "#         # initialize chain \n",
    "#         t = ChatPromptTemplate.from_messages ([\n",
    "#             (\"system\",p_system_message_improve_writing),\n",
    "#             (\"human\",q)\n",
    "#             ])\n",
    "\n",
    "#         ideas_chain = t| llm\n",
    "#         out = ideas_chain.invoke({\"input_data\", pp_batch}) \n",
    "\n",
    "\n",
    "#         print (f\"*** Improve Writing Batch {i + 1} Complete! ***\")\n",
    "\n",
    "#         # append to ideas_tempt list \n",
    "#         improved_content_temp_list.append (out.content)\n",
    "#         print (f\"batch {i + 1 } content:\",out.content)\n",
    "\n",
    "#     print (\"*** Improve Writng complete ***\")\n",
    "\n",
    "#      # Get today's date in the format YYYY-MM-DD\n",
    "#     today_date = datetime.now().strftime(\"%Y-%m-%d\")\n",
    "\n",
    "#     # Construct the filename with today's date\n",
    "#         # Create directory if it doesn't exist\n",
    "#     dir_name = 'raw_improved_content'\n",
    "#     if not os.path.exists(dir_name):\n",
    "#         os.makedirs(dir_name)\n",
    "\n",
    "#     # Define the path for the output file\n",
    "#     file_path = os.path.join(dir_name, f'raw_improved_content_{today_date}.txt')\n",
    "\n",
    "#     # Writing the pain points to the text file\n",
    "#     with open(file_path, 'w') as file:\n",
    "#         for idea in improved_content_temp_list:\n",
    "#             file.write(idea + '\\n')  # Write each pain point on a new line\n",
    "\n",
    "#     print(f\"***Improved Painpoints Content saved to '{file_path}' ***\")\n",
    "\n",
    "#     return improved_content_temp_list"
   ]
  },
  {
   "cell_type": "code",
   "execution_count": 49,
   "metadata": {},
   "outputs": [
    {
     "ename": "NameError",
     "evalue": "name 'improve_writing_ol' is not defined",
     "output_type": "error",
     "traceback": [
      "\u001b[0;31m---------------------------------------------------------------------------\u001b[0m",
      "\u001b[0;31mNameError\u001b[0m                                 Traceback (most recent call last)",
      "Cell \u001b[0;32mIn[49], line 2\u001b[0m\n\u001b[1;32m      1\u001b[0m improved_content_temp_list\n\u001b[0;32m----> 2\u001b[0m ideas \u001b[38;5;241m=\u001b[39m \u001b[43mimprove_writing_ol\u001b[49m (improved_content_temp_list,main_content_temp_list)\n",
      "\u001b[0;31mNameError\u001b[0m: name 'improve_writing_ol' is not defined"
     ]
    }
   ],
   "source": [
    "improved_content_temp_list\n",
    "ideas = improve_writing_ol (improved_content_temp_list,main_content_temp_list)"
   ]
  },
  {
   "cell_type": "markdown",
   "metadata": {},
   "source": [
    "## Ideas Pipline -> with Ideas Agent - > deprecated\n",
    "IMPORTANT -> the online ideas generation pipeline leads to halucination of ideas, and is deprecated.Save for documentation"
   ]
  },
  {
   "cell_type": "markdown",
   "metadata": {},
   "source": [
    "Initialize agent function"
   ]
  },
  {
   "cell_type": "code",
   "execution_count": null,
   "metadata": {},
   "outputs": [],
   "source": []
  },
  {
   "cell_type": "code",
   "execution_count": null,
   "metadata": {},
   "outputs": [],
   "source": [
    "# def init_ideas_agent (input_data_batch: list,memory_llm,agent_llm):\n",
    "# # Define memory for this agent \n",
    "#     ideas_memory = ConversationBufferMemory (\n",
    "#         memory_key=\"ideas_memory\",\n",
    "#         return_messages=True,\n",
    "#         llm=memory_llm,\n",
    "#         max_tokens=1000\n",
    "#     )\n",
    "#     ## be careful\n",
    "#     ideas_memory.clear()\n",
    "\n",
    "#     empty_system_message_ideas = SystemMessagePromptTemplate.from_template(p_system_message_ideas_offline)\n",
    "\n",
    "#     system_message_ideas =empty_system_message_ideas.format(input_data=input_data_batch) \n",
    "\n",
    "#     agent_kwargs = {\n",
    "#         \"extract_prompt_messages\" : [MessagesPlaceholder(variable_name=\"ideas_memory\")],\n",
    "#         \"system_message\" : system_message_ideas,\n",
    "#     }\n",
    "\n",
    "#     # Create Agent \n",
    "\n",
    "#     # initialize agent\n",
    "#     ideas_agent = initialize_agent (\n",
    "#         tools=[],\n",
    "#         llm=agent_llm,\n",
    "#         agent=AgentType.OPENAI_FUNCTIONS,\n",
    "#         verbose=True,\n",
    "#         agent_kwargs=agent_kwargs,\n",
    "#         memory=ideas_memory,\n",
    "#     )\n",
    "#     print (\"Ideas Agent Intialized\")\n",
    "#     return ideas_agent"
   ]
  },
  {
   "cell_type": "code",
   "execution_count": null,
   "metadata": {},
   "outputs": [],
   "source": [
    "# ideas_temp_list= []\n",
    "# ideas = get_ideas (ideas_temp_list, painpoints_temp_list,memory_llm=gpt4,agent_llm=pplx)"
   ]
  },
  {
   "cell_type": "code",
   "execution_count": null,
   "metadata": {},
   "outputs": [],
   "source": [
    "# ## The main function to get ideas \n",
    "# def get_ideas (ideas_temp_list:list, painpoints_temp_list: list ,memory_llm = gpt3, agent_llm = pplx):\n",
    "\n",
    "#     for i, pp_batch in enumerate (painpoints_temp_list):  # need to add to this \n",
    "#         count  = 1 \n",
    "#         # initialize agaent \n",
    "#         ideas_agent = init_ideas_agent(pp_batch,memory_llm=memory_llm,agent_llm=agent_llm)\n",
    "        \n",
    "#         # TODO: run ai\n",
    "#         q = \"\"\" \n",
    "#             FOR EACH PAINPOINTS\n",
    "#             1. Generate 1 specific saas idea Solution that directly solves the problem\n",
    "#             2. Generate 3 key features FOR EACH saas ideas generated  Output format :(8-15 word description of each features)\n",
    "#             3. generate 2,  1 to 2 word tags for this item describing their category or domain \n",
    "\n",
    "#             FINAL OUTPUT FORMAT (OUTPUT IN BELOWR FORMAT AND NOTHING ELSE: \n",
    "#             painpoint: xxxx  (8 to 12 words)\n",
    "#             source: xxx (ONLY IF APPLICABLE, IF NOT: \"\")\n",
    "#             link: xxx(ONLY IF APPLICABLE, IF NOT: \"\")\n",
    "#             description: xxxxxx (3 sentences)  \n",
    "#             idea: (6-10 word title of the idea; WRITING STYLE: Technical, Prfoessional, Tech Blogger)\n",
    "#             features: xxx , xxx , xxx (8-15 word description of each features,vary;WRITING STYLE: Technical, Prfoessional, Tech Blogger)\n",
    "#             tags: xxx, xx \n",
    "#             \"\"\"\n",
    "#         out = agent.invoke({\"input\": q}) \n",
    "#         print (f\"*** Idea Generate Batch {i + 1} Complete! ***\")\n",
    "\n",
    "#         # append to ideas_tempt list \n",
    "#         ideas_temp_list.append (out[\"output\"])\n",
    "\n",
    "#     print (\"*** Ideas Generation Complete ***\")\n",
    "\n",
    "#      # Get today's date in the format YYYY-MM-DD\n",
    "#     today_date = datetime.now().strftime(\"%Y-%m-%d\")\n",
    "\n",
    "#     # Construct the filename with today's date\n",
    "#         # Create directory if it doesn't exist\n",
    "#     dir_name = 'ideas_raw'\n",
    "#     if not os.path.exists(dir_name):\n",
    "#         os.makedirs(dir_name)\n",
    "\n",
    "#     # Define the path for the output file\n",
    "#     file_path = os.path.join(dir_name, f'ideas_{today_date}.txt')\n",
    "\n",
    "#     # Writing the pain points to the text file\n",
    "#     with open(file_path, 'w') as file:\n",
    "#         for idea in ideas_temp_list:\n",
    "#             file.write(idea + '\\n')  # Write each pain point on a new line\n",
    "\n",
    "#     print(f\"*** Painpoints saved to '{file_path}' ***\")\n",
    "\n",
    "#     return ideas_temp_list\n",
    "        "
   ]
  }
 ],
 "metadata": {
  "kernelspec": {
   "display_name": "adigen_conda_venv_2",
   "language": "python",
   "name": "python3"
  },
  "language_info": {
   "codemirror_mode": {
    "name": "ipython",
    "version": 3
   },
   "file_extension": ".py",
   "mimetype": "text/x-python",
   "name": "python",
   "nbconvert_exporter": "python",
   "pygments_lexer": "ipython3",
   "version": "3.10.13"
  }
 },
 "nbformat": 4,
 "nbformat_minor": 2
}
